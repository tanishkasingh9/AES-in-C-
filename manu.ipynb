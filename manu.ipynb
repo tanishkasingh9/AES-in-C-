{
  "nbformat": 4,
  "nbformat_minor": 0,
  "metadata": {
    "colab": {
      "name": "manu.ipynb",
      "provenance": [],
      "include_colab_link": true
    },
    "kernelspec": {
      "name": "python3",
      "display_name": "Python 3"
    },
    "accelerator": "TPU"
  },
  "cells": [
    {
      "cell_type": "markdown",
      "metadata": {
        "id": "view-in-github",
        "colab_type": "text"
      },
      "source": [
        "<a href=\"https://colab.research.google.com/github/tanishkasingh9/AES-in-C-/blob/master/manu.ipynb\" target=\"_parent\"><img src=\"https://colab.research.google.com/assets/colab-badge.svg\" alt=\"Open In Colab\"/></a>"
      ]
    },
    {
      "cell_type": "code",
      "metadata": {
        "id": "EVLbrz5WyY4u",
        "colab_type": "code",
        "outputId": "6c7559c4-c831-4fd8-950c-b98a367dccce",
        "colab": {
          "base_uri": "https://localhost:8080/",
          "height": 34
        }
      },
      "source": [
        "from google.colab import drive\n",
        "drive.mount('/content/drive', force_remount=True)"
      ],
      "execution_count": 0,
      "outputs": [
        {
          "output_type": "stream",
          "text": [
            "Mounted at /content/drive\n"
          ],
          "name": "stdout"
        }
      ]
    },
    {
      "cell_type": "code",
      "metadata": {
        "id": "VCZTTt3I0Yq9",
        "colab_type": "code",
        "outputId": "c08c7d24-03ff-4667-ad2d-bd1602ca0d89",
        "colab": {
          "base_uri": "https://localhost:8080/",
          "height": 34
        }
      },
      "source": [
        "!ls"
      ],
      "execution_count": 0,
      "outputs": [
        {
          "output_type": "stream",
          "text": [
            "drive  sample_data\n"
          ],
          "name": "stdout"
        }
      ]
    },
    {
      "cell_type": "code",
      "metadata": {
        "id": "lvhXvXHy1CPk",
        "colab_type": "code",
        "colab": {}
      },
      "source": [
        "import numpy as np\n"
      ],
      "execution_count": 0,
      "outputs": []
    },
    {
      "cell_type": "code",
      "metadata": {
        "id": "8k43760D0sUz",
        "colab_type": "code",
        "colab": {}
      },
      "source": [
        "execution_times1 =  np.loadtxt('/content/drive/My Drive/execution.txt', dtype=float, comments='#', delimiter=None, converters=None, skiprows=0, usecols=None, unpack=False, ndmin=0, encoding='bytes', max_rows=None)\n",
        "execution_times2 =  np.loadtxt('/content/drive/My Drive/execution2.txt', dtype=float, comments='#', delimiter=None, converters=None, skiprows=0, usecols=None, unpack=False, ndmin=0, encoding='bytes', max_rows=None)\n",
        "execution_times3 =  np.loadtxt('/content/drive/My Drive/execution3.txt', dtype=float, comments='#', delimiter=None, converters=None, skiprows=0, usecols=None, unpack=False, ndmin=0, encoding='bytes', max_rows=None)\n",
        "execution_times4 =  np.loadtxt('/content/drive/My Drive/execution4.txt', dtype=float, comments='#', delimiter=None, converters=None, skiprows=0, usecols=None, unpack=False, ndmin=0, encoding='bytes', max_rows=None)"
      ],
      "execution_count": 0,
      "outputs": []
    },
    {
      "cell_type": "code",
      "metadata": {
        "id": "ZUsOiTYl1_3Q",
        "colab_type": "code",
        "colab": {}
      },
      "source": [
        "execution_time =np.concatenate((execution_times1,execution_times2,execution_times3,execution_times4), axis=0)"
      ],
      "execution_count": 0,
      "outputs": []
    },
    {
      "cell_type": "code",
      "metadata": {
        "id": "OnkTxPoJ2CIp",
        "colab_type": "code",
        "colab": {}
      },
      "source": [
        "import matplotlib.pyplot as plt\n",
        "from scipy.stats import binom\n",
        "from sklearn.mixture import GaussianMixture"
      ],
      "execution_count": 0,
      "outputs": []
    },
    {
      "cell_type": "code",
      "metadata": {
        "id": "RuqXo-safXze",
        "colab_type": "code",
        "outputId": "ed86fb60-0a7d-4be7-c148-a15b70296da9",
        "colab": {
          "base_uri": "https://localhost:8080/",
          "height": 34
        }
      },
      "source": [
        "execution_time.shape"
      ],
      "execution_count": 0,
      "outputs": [
        {
          "output_type": "execute_result",
          "data": {
            "text/plain": [
              "(2548,)"
            ]
          },
          "metadata": {
            "tags": []
          },
          "execution_count": 27
        }
      ]
    },
    {
      "cell_type": "code",
      "metadata": {
        "id": "keMofnas3s9-",
        "colab_type": "code",
        "outputId": "d94d635b-5189-4a5f-e046-ef059d0a4a82",
        "colab": {
          "base_uri": "https://localhost:8080/",
          "height": 5218
        }
      },
      "source": [
        "fig = plt.figure(figsize=(5, 5))\n",
        "plt.hist(execution_times, bins = 627, normed = True)"
      ],
      "execution_count": 41,
      "outputs": [
        {
          "output_type": "stream",
          "text": [
            "/usr/local/lib/python3.6/dist-packages/ipykernel_launcher.py:2: MatplotlibDeprecationWarning: \n",
            "The 'normed' kwarg was deprecated in Matplotlib 2.1 and will be removed in 3.1. Use 'density' instead.\n",
            "  \n"
          ],
          "name": "stderr"
        },
        {
          "output_type": "execute_result",
          "data": {
            "text/plain": [
              "(array([0.18386884, 0.01463924, 0.02049493, 0.03337746, 0.01581038,\n",
              "        0.00702683, 0.00527013, 0.00292785, 0.00527013, 0.0058557 ,\n",
              "        0.00409899, 0.00292785, 0.00468456, 0.00292785, 0.00468456,\n",
              "        0.        , 0.00292785, 0.00351342, 0.        , 0.00175671,\n",
              "        0.00117114, 0.00058557, 0.        , 0.00175671, 0.00175671,\n",
              "        0.00058557, 0.00058557, 0.00234228, 0.00058557, 0.00234228,\n",
              "        0.        , 0.00175671, 0.        , 0.00117114, 0.        ,\n",
              "        0.        , 0.00117114, 0.00292785, 0.00117114, 0.00117114,\n",
              "        0.        , 0.00058557, 0.00058557, 0.00117114, 0.00117114,\n",
              "        0.00058557, 0.00058557, 0.00058557, 0.00058557, 0.00058557,\n",
              "        0.        , 0.00058557, 0.        , 0.        , 0.        ,\n",
              "        0.        , 0.00117114, 0.00058557, 0.00058557, 0.        ,\n",
              "        0.00058557, 0.        , 0.        , 0.        , 0.        ,\n",
              "        0.        , 0.        , 0.00058557, 0.        , 0.        ,\n",
              "        0.00058557, 0.        , 0.        , 0.        , 0.00058557,\n",
              "        0.        , 0.        , 0.        , 0.00058557, 0.        ,\n",
              "        0.        , 0.        , 0.        , 0.00058557, 0.        ,\n",
              "        0.        , 0.        , 0.        , 0.        , 0.        ,\n",
              "        0.        , 0.        , 0.        , 0.00058557, 0.        ,\n",
              "        0.        , 0.        , 0.00117114, 0.00117114, 0.        ,\n",
              "        0.00058557, 0.00058557, 0.00058557, 0.        , 0.        ,\n",
              "        0.00058557, 0.00058557, 0.        , 0.        , 0.00117114,\n",
              "        0.        , 0.        , 0.        , 0.00058557, 0.00058557,\n",
              "        0.00058557, 0.        , 0.        , 0.        , 0.00058557,\n",
              "        0.        , 0.        , 0.        , 0.        , 0.00058557,\n",
              "        0.        , 0.        , 0.00058557, 0.        , 0.        ,\n",
              "        0.        , 0.        , 0.        , 0.        , 0.        ,\n",
              "        0.        , 0.        , 0.        , 0.        , 0.        ,\n",
              "        0.        , 0.        , 0.        , 0.        , 0.        ,\n",
              "        0.        , 0.        , 0.        , 0.        , 0.        ,\n",
              "        0.        , 0.        , 0.        , 0.        , 0.        ,\n",
              "        0.        , 0.        , 0.        , 0.        , 0.        ,\n",
              "        0.        , 0.        , 0.        , 0.        , 0.        ,\n",
              "        0.        , 0.        , 0.        , 0.        , 0.        ,\n",
              "        0.        , 0.        , 0.        , 0.        , 0.        ,\n",
              "        0.        , 0.        , 0.        , 0.        , 0.        ,\n",
              "        0.        , 0.        , 0.        , 0.        , 0.        ,\n",
              "        0.00058557, 0.        , 0.        , 0.        , 0.        ,\n",
              "        0.        , 0.00058557, 0.        , 0.        , 0.        ,\n",
              "        0.        , 0.        , 0.        , 0.        , 0.        ,\n",
              "        0.        , 0.        , 0.        , 0.        , 0.        ,\n",
              "        0.        , 0.        , 0.        , 0.        , 0.        ,\n",
              "        0.        , 0.        , 0.        , 0.        , 0.        ,\n",
              "        0.        , 0.        , 0.        , 0.        , 0.        ,\n",
              "        0.        , 0.        , 0.        , 0.        , 0.        ,\n",
              "        0.        , 0.        , 0.        , 0.        , 0.        ,\n",
              "        0.        , 0.        , 0.        , 0.        , 0.00058557,\n",
              "        0.        , 0.        , 0.        , 0.00058557, 0.        ,\n",
              "        0.        , 0.        , 0.        , 0.        , 0.        ,\n",
              "        0.        , 0.        , 0.        , 0.        , 0.        ,\n",
              "        0.        , 0.        , 0.        , 0.        , 0.        ,\n",
              "        0.        , 0.        , 0.        , 0.        , 0.        ,\n",
              "        0.        , 0.        , 0.        , 0.        , 0.        ,\n",
              "        0.        , 0.        , 0.        , 0.        , 0.        ,\n",
              "        0.        , 0.        , 0.        , 0.        , 0.        ,\n",
              "        0.        , 0.        , 0.        , 0.        , 0.        ,\n",
              "        0.        , 0.        , 0.        , 0.        , 0.        ,\n",
              "        0.        , 0.        , 0.        , 0.        , 0.        ,\n",
              "        0.        , 0.        , 0.        , 0.        , 0.        ,\n",
              "        0.        , 0.00058557, 0.        , 0.        , 0.        ,\n",
              "        0.        , 0.        , 0.        , 0.        , 0.        ,\n",
              "        0.        , 0.        , 0.        , 0.        , 0.        ,\n",
              "        0.        , 0.        , 0.        , 0.        , 0.        ,\n",
              "        0.        , 0.        , 0.        , 0.        , 0.        ,\n",
              "        0.        , 0.        , 0.        , 0.        , 0.        ,\n",
              "        0.        , 0.        , 0.        , 0.        , 0.        ,\n",
              "        0.        , 0.        , 0.        , 0.        , 0.        ,\n",
              "        0.        , 0.        , 0.        , 0.        , 0.        ,\n",
              "        0.        , 0.        , 0.        , 0.        , 0.        ,\n",
              "        0.        , 0.        , 0.        , 0.        , 0.        ,\n",
              "        0.        , 0.        , 0.        , 0.        , 0.        ,\n",
              "        0.        , 0.        , 0.        , 0.        , 0.        ,\n",
              "        0.        , 0.        , 0.        , 0.        , 0.        ,\n",
              "        0.00058557, 0.        , 0.        , 0.        , 0.        ,\n",
              "        0.        , 0.        , 0.        , 0.        , 0.        ,\n",
              "        0.        , 0.        , 0.00058557, 0.        , 0.        ,\n",
              "        0.        , 0.        , 0.        , 0.        , 0.        ,\n",
              "        0.        , 0.        , 0.        , 0.        , 0.        ,\n",
              "        0.        , 0.        , 0.        , 0.        , 0.        ,\n",
              "        0.        , 0.        , 0.        , 0.        , 0.        ,\n",
              "        0.        , 0.        , 0.        , 0.        , 0.        ,\n",
              "        0.        , 0.        , 0.        , 0.        , 0.        ,\n",
              "        0.        , 0.        , 0.        , 0.        , 0.        ,\n",
              "        0.        , 0.        , 0.        , 0.        , 0.        ,\n",
              "        0.        , 0.00058557, 0.        , 0.        , 0.        ,\n",
              "        0.        , 0.        , 0.        , 0.        , 0.        ,\n",
              "        0.        , 0.        , 0.        , 0.        , 0.        ,\n",
              "        0.        , 0.        , 0.        , 0.        , 0.        ,\n",
              "        0.        , 0.        , 0.        , 0.        , 0.        ,\n",
              "        0.        , 0.        , 0.        , 0.        , 0.        ,\n",
              "        0.        , 0.        , 0.        , 0.        , 0.        ,\n",
              "        0.        , 0.        , 0.        , 0.        , 0.        ,\n",
              "        0.        , 0.        , 0.        , 0.        , 0.        ,\n",
              "        0.        , 0.        , 0.        , 0.        , 0.        ,\n",
              "        0.        , 0.        , 0.        , 0.        , 0.        ,\n",
              "        0.        , 0.        , 0.        , 0.        , 0.        ,\n",
              "        0.        , 0.        , 0.        , 0.        , 0.        ,\n",
              "        0.        , 0.        , 0.        , 0.        , 0.        ,\n",
              "        0.        , 0.        , 0.        , 0.        , 0.        ,\n",
              "        0.        , 0.        , 0.        , 0.        , 0.        ,\n",
              "        0.        , 0.        , 0.        , 0.        , 0.        ,\n",
              "        0.        , 0.        , 0.        , 0.        , 0.        ,\n",
              "        0.        , 0.        , 0.        , 0.        , 0.        ,\n",
              "        0.        , 0.        , 0.        , 0.        , 0.        ,\n",
              "        0.        , 0.        , 0.        , 0.        , 0.        ,\n",
              "        0.        , 0.        , 0.        , 0.        , 0.        ,\n",
              "        0.        , 0.        , 0.        , 0.        , 0.        ,\n",
              "        0.        , 0.        , 0.        , 0.        , 0.        ,\n",
              "        0.        , 0.        , 0.        , 0.        , 0.        ,\n",
              "        0.        , 0.        , 0.        , 0.        , 0.        ,\n",
              "        0.        , 0.        , 0.        , 0.        , 0.        ,\n",
              "        0.        , 0.        , 0.        , 0.        , 0.        ,\n",
              "        0.        , 0.        , 0.        , 0.        , 0.        ,\n",
              "        0.        , 0.        , 0.        , 0.        , 0.        ,\n",
              "        0.        , 0.        , 0.        , 0.        , 0.        ,\n",
              "        0.        , 0.        , 0.        , 0.        , 0.        ,\n",
              "        0.        , 0.        , 0.        , 0.        , 0.        ,\n",
              "        0.        , 0.00058557, 0.        , 0.        , 0.        ,\n",
              "        0.        , 0.        , 0.        , 0.        , 0.        ,\n",
              "        0.        , 0.        , 0.        , 0.        , 0.        ,\n",
              "        0.        , 0.        , 0.        , 0.        , 0.        ,\n",
              "        0.        , 0.        , 0.        , 0.        , 0.        ,\n",
              "        0.        , 0.        , 0.        , 0.        , 0.        ,\n",
              "        0.        , 0.        , 0.        , 0.        , 0.        ,\n",
              "        0.        , 0.        , 0.        , 0.        , 0.00058557,\n",
              "        0.        , 0.00058557]),\n",
              " array([   0.        ,    2.68090909,    5.36181818,    8.04272727,\n",
              "          10.72363636,   13.40454545,   16.08545455,   18.76636364,\n",
              "          21.44727273,   24.12818182,   26.80909091,   29.49      ,\n",
              "          32.17090909,   34.85181818,   37.53272727,   40.21363636,\n",
              "          42.89454545,   45.57545455,   48.25636364,   50.93727273,\n",
              "          53.61818182,   56.29909091,   58.98      ,   61.66090909,\n",
              "          64.34181818,   67.02272727,   69.70363636,   72.38454545,\n",
              "          75.06545455,   77.74636364,   80.42727273,   83.10818182,\n",
              "          85.78909091,   88.47      ,   91.15090909,   93.83181818,\n",
              "          96.51272727,   99.19363636,  101.87454545,  104.55545455,\n",
              "         107.23636364,  109.91727273,  112.59818182,  115.27909091,\n",
              "         117.96      ,  120.64090909,  123.32181818,  126.00272727,\n",
              "         128.68363636,  131.36454545,  134.04545455,  136.72636364,\n",
              "         139.40727273,  142.08818182,  144.76909091,  147.45      ,\n",
              "         150.13090909,  152.81181818,  155.49272727,  158.17363636,\n",
              "         160.85454545,  163.53545455,  166.21636364,  168.89727273,\n",
              "         171.57818182,  174.25909091,  176.94      ,  179.62090909,\n",
              "         182.30181818,  184.98272727,  187.66363636,  190.34454545,\n",
              "         193.02545455,  195.70636364,  198.38727273,  201.06818182,\n",
              "         203.74909091,  206.43      ,  209.11090909,  211.79181818,\n",
              "         214.47272727,  217.15363636,  219.83454545,  222.51545455,\n",
              "         225.19636364,  227.87727273,  230.55818182,  233.23909091,\n",
              "         235.92      ,  238.60090909,  241.28181818,  243.96272727,\n",
              "         246.64363636,  249.32454545,  252.00545455,  254.68636364,\n",
              "         257.36727273,  260.04818182,  262.72909091,  265.41      ,\n",
              "         268.09090909,  270.77181818,  273.45272727,  276.13363636,\n",
              "         278.81454545,  281.49545455,  284.17636364,  286.85727273,\n",
              "         289.53818182,  292.21909091,  294.9       ,  297.58090909,\n",
              "         300.26181818,  302.94272727,  305.62363636,  308.30454545,\n",
              "         310.98545455,  313.66636364,  316.34727273,  319.02818182,\n",
              "         321.70909091,  324.39      ,  327.07090909,  329.75181818,\n",
              "         332.43272727,  335.11363636,  337.79454545,  340.47545455,\n",
              "         343.15636364,  345.83727273,  348.51818182,  351.19909091,\n",
              "         353.88      ,  356.56090909,  359.24181818,  361.92272727,\n",
              "         364.60363636,  367.28454545,  369.96545455,  372.64636364,\n",
              "         375.32727273,  378.00818182,  380.68909091,  383.37      ,\n",
              "         386.05090909,  388.73181818,  391.41272727,  394.09363636,\n",
              "         396.77454545,  399.45545455,  402.13636364,  404.81727273,\n",
              "         407.49818182,  410.17909091,  412.86      ,  415.54090909,\n",
              "         418.22181818,  420.90272727,  423.58363636,  426.26454545,\n",
              "         428.94545455,  431.62636364,  434.30727273,  436.98818182,\n",
              "         439.66909091,  442.35      ,  445.03090909,  447.71181818,\n",
              "         450.39272727,  453.07363636,  455.75454545,  458.43545455,\n",
              "         461.11636364,  463.79727273,  466.47818182,  469.15909091,\n",
              "         471.84      ,  474.52090909,  477.20181818,  479.88272727,\n",
              "         482.56363636,  485.24454545,  487.92545455,  490.60636364,\n",
              "         493.28727273,  495.96818182,  498.64909091,  501.33      ,\n",
              "         504.01090909,  506.69181818,  509.37272727,  512.05363636,\n",
              "         514.73454545,  517.41545455,  520.09636364,  522.77727273,\n",
              "         525.45818182,  528.13909091,  530.82      ,  533.50090909,\n",
              "         536.18181818,  538.86272727,  541.54363636,  544.22454545,\n",
              "         546.90545455,  549.58636364,  552.26727273,  554.94818182,\n",
              "         557.62909091,  560.31      ,  562.99090909,  565.67181818,\n",
              "         568.35272727,  571.03363636,  573.71454545,  576.39545455,\n",
              "         579.07636364,  581.75727273,  584.43818182,  587.11909091,\n",
              "         589.8       ,  592.48090909,  595.16181818,  597.84272727,\n",
              "         600.52363636,  603.20454545,  605.88545455,  608.56636364,\n",
              "         611.24727273,  613.92818182,  616.60909091,  619.29      ,\n",
              "         621.97090909,  624.65181818,  627.33272727,  630.01363636,\n",
              "         632.69454545,  635.37545455,  638.05636364,  640.73727273,\n",
              "         643.41818182,  646.09909091,  648.78      ,  651.46090909,\n",
              "         654.14181818,  656.82272727,  659.50363636,  662.18454545,\n",
              "         664.86545455,  667.54636364,  670.22727273,  672.90818182,\n",
              "         675.58909091,  678.27      ,  680.95090909,  683.63181818,\n",
              "         686.31272727,  688.99363636,  691.67454545,  694.35545455,\n",
              "         697.03636364,  699.71727273,  702.39818182,  705.07909091,\n",
              "         707.76      ,  710.44090909,  713.12181818,  715.80272727,\n",
              "         718.48363636,  721.16454545,  723.84545455,  726.52636364,\n",
              "         729.20727273,  731.88818182,  734.56909091,  737.25      ,\n",
              "         739.93090909,  742.61181818,  745.29272727,  747.97363636,\n",
              "         750.65454545,  753.33545455,  756.01636364,  758.69727273,\n",
              "         761.37818182,  764.05909091,  766.74      ,  769.42090909,\n",
              "         772.10181818,  774.78272727,  777.46363636,  780.14454545,\n",
              "         782.82545455,  785.50636364,  788.18727273,  790.86818182,\n",
              "         793.54909091,  796.23      ,  798.91090909,  801.59181818,\n",
              "         804.27272727,  806.95363636,  809.63454545,  812.31545455,\n",
              "         814.99636364,  817.67727273,  820.35818182,  823.03909091,\n",
              "         825.72      ,  828.40090909,  831.08181818,  833.76272727,\n",
              "         836.44363636,  839.12454545,  841.80545455,  844.48636364,\n",
              "         847.16727273,  849.84818182,  852.52909091,  855.21      ,\n",
              "         857.89090909,  860.57181818,  863.25272727,  865.93363636,\n",
              "         868.61454545,  871.29545455,  873.97636364,  876.65727273,\n",
              "         879.33818182,  882.01909091,  884.7       ,  887.38090909,\n",
              "         890.06181818,  892.74272727,  895.42363636,  898.10454545,\n",
              "         900.78545455,  903.46636364,  906.14727273,  908.82818182,\n",
              "         911.50909091,  914.19      ,  916.87090909,  919.55181818,\n",
              "         922.23272727,  924.91363636,  927.59454545,  930.27545455,\n",
              "         932.95636364,  935.63727273,  938.31818182,  940.99909091,\n",
              "         943.68      ,  946.36090909,  949.04181818,  951.72272727,\n",
              "         954.40363636,  957.08454545,  959.76545455,  962.44636364,\n",
              "         965.12727273,  967.80818182,  970.48909091,  973.17      ,\n",
              "         975.85090909,  978.53181818,  981.21272727,  983.89363636,\n",
              "         986.57454545,  989.25545455,  991.93636364,  994.61727273,\n",
              "         997.29818182,  999.97909091, 1002.66      , 1005.34090909,\n",
              "        1008.02181818, 1010.70272727, 1013.38363636, 1016.06454545,\n",
              "        1018.74545455, 1021.42636364, 1024.10727273, 1026.78818182,\n",
              "        1029.46909091, 1032.15      , 1034.83090909, 1037.51181818,\n",
              "        1040.19272727, 1042.87363636, 1045.55454545, 1048.23545455,\n",
              "        1050.91636364, 1053.59727273, 1056.27818182, 1058.95909091,\n",
              "        1061.64      , 1064.32090909, 1067.00181818, 1069.68272727,\n",
              "        1072.36363636, 1075.04454545, 1077.72545455, 1080.40636364,\n",
              "        1083.08727273, 1085.76818182, 1088.44909091, 1091.13      ,\n",
              "        1093.81090909, 1096.49181818, 1099.17272727, 1101.85363636,\n",
              "        1104.53454545, 1107.21545455, 1109.89636364, 1112.57727273,\n",
              "        1115.25818182, 1117.93909091, 1120.62      , 1123.30090909,\n",
              "        1125.98181818, 1128.66272727, 1131.34363636, 1134.02454545,\n",
              "        1136.70545455, 1139.38636364, 1142.06727273, 1144.74818182,\n",
              "        1147.42909091, 1150.11      , 1152.79090909, 1155.47181818,\n",
              "        1158.15272727, 1160.83363636, 1163.51454545, 1166.19545455,\n",
              "        1168.87636364, 1171.55727273, 1174.23818182, 1176.91909091,\n",
              "        1179.6       , 1182.28090909, 1184.96181818, 1187.64272727,\n",
              "        1190.32363636, 1193.00454545, 1195.68545455, 1198.36636364,\n",
              "        1201.04727273, 1203.72818182, 1206.40909091, 1209.09      ,\n",
              "        1211.77090909, 1214.45181818, 1217.13272727, 1219.81363636,\n",
              "        1222.49454545, 1225.17545455, 1227.85636364, 1230.53727273,\n",
              "        1233.21818182, 1235.89909091, 1238.58      , 1241.26090909,\n",
              "        1243.94181818, 1246.62272727, 1249.30363636, 1251.98454545,\n",
              "        1254.66545455, 1257.34636364, 1260.02727273, 1262.70818182,\n",
              "        1265.38909091, 1268.07      , 1270.75090909, 1273.43181818,\n",
              "        1276.11272727, 1278.79363636, 1281.47454545, 1284.15545455,\n",
              "        1286.83636364, 1289.51727273, 1292.19818182, 1294.87909091,\n",
              "        1297.56      , 1300.24090909, 1302.92181818, 1305.60272727,\n",
              "        1308.28363636, 1310.96454545, 1313.64545455, 1316.32636364,\n",
              "        1319.00727273, 1321.68818182, 1324.36909091, 1327.05      ,\n",
              "        1329.73090909, 1332.41181818, 1335.09272727, 1337.77363636,\n",
              "        1340.45454545, 1343.13545455, 1345.81636364, 1348.49727273,\n",
              "        1351.17818182, 1353.85909091, 1356.54      , 1359.22090909,\n",
              "        1361.90181818, 1364.58272727, 1367.26363636, 1369.94454545,\n",
              "        1372.62545455, 1375.30636364, 1377.98727273, 1380.66818182,\n",
              "        1383.34909091, 1386.03      , 1388.71090909, 1391.39181818,\n",
              "        1394.07272727, 1396.75363636, 1399.43454545, 1402.11545455,\n",
              "        1404.79636364, 1407.47727273, 1410.15818182, 1412.83909091,\n",
              "        1415.52      , 1418.20090909, 1420.88181818, 1423.56272727,\n",
              "        1426.24363636, 1428.92454545, 1431.60545455, 1434.28636364,\n",
              "        1436.96727273, 1439.64818182, 1442.32909091, 1445.01      ,\n",
              "        1447.69090909, 1450.37181818, 1453.05272727, 1455.73363636,\n",
              "        1458.41454545, 1461.09545455, 1463.77636364, 1466.45727273,\n",
              "        1469.13818182, 1471.81909091, 1474.5       , 1477.18090909,\n",
              "        1479.86181818, 1482.54272727, 1485.22363636, 1487.90454545,\n",
              "        1490.58545455, 1493.26636364, 1495.94727273, 1498.62818182,\n",
              "        1501.30909091, 1503.99      , 1506.67090909, 1509.35181818,\n",
              "        1512.03272727, 1514.71363636, 1517.39454545, 1520.07545455,\n",
              "        1522.75636364, 1525.43727273, 1528.11818182, 1530.79909091,\n",
              "        1533.48      , 1536.16090909, 1538.84181818, 1541.52272727,\n",
              "        1544.20363636, 1546.88454545, 1549.56545455, 1552.24636364,\n",
              "        1554.92727273, 1557.60818182, 1560.28909091, 1562.97      ,\n",
              "        1565.65090909, 1568.33181818, 1571.01272727, 1573.69363636,\n",
              "        1576.37454545, 1579.05545455, 1581.73636364, 1584.41727273,\n",
              "        1587.09818182, 1589.77909091, 1592.46      , 1595.14090909,\n",
              "        1597.82181818, 1600.50272727, 1603.18363636, 1605.86454545,\n",
              "        1608.54545455, 1611.22636364, 1613.90727273, 1616.58818182,\n",
              "        1619.26909091, 1621.95      , 1624.63090909, 1627.31181818,\n",
              "        1629.99272727, 1632.67363636, 1635.35454545, 1638.03545455,\n",
              "        1640.71636364, 1643.39727273, 1646.07818182, 1648.75909091,\n",
              "        1651.44      , 1654.12090909, 1656.80181818, 1659.48272727,\n",
              "        1662.16363636, 1664.84454545, 1667.52545455, 1670.20636364,\n",
              "        1672.88727273, 1675.56818182, 1678.24909091, 1680.93      ]),\n",
              " <a list of 627 Patch objects>)"
            ]
          },
          "metadata": {
            "tags": []
          },
          "execution_count": 41
        },
        {
          "output_type": "display_data",
          "data": {
            "image/png": "[encoded data removed]",
            "text/plain": [
              "<Figure size 360x360 with 1 Axes>"
            ]
          },
          "metadata": {
            "tags": []
          }
        }
      ]
    },
    {
      "cell_type": "code",
      "metadata": {
        "id": "gPKDevH05fpf",
        "colab_type": "code",
        "outputId": "daf3ef25-9013-4402-e290-8e539d39f168",
        "colab": {
          "base_uri": "https://localhost:8080/",
          "height": 71
        }
      },
      "source": [
        "counts, bin_edges = np.histogram(execution_times, bins=627, normed=True)"
      ],
      "execution_count": 0,
      "outputs": [
        {
          "output_type": "stream",
          "text": [
            "/usr/local/lib/python3.6/dist-packages/ipykernel_launcher.py:1: VisibleDeprecationWarning: Passing `normed=True` on non-uniform bins has always been broken, and computes neither the probability density function nor the probability mass function. The result is only correct if the bins are uniform, when density=True will produce the same result anyway. The argument will be removed in a future version of numpy.\n",
            "  \"\"\"Entry point for launching an IPython kernel.\n"
          ],
          "name": "stderr"
        }
      ]
    },
    {
      "cell_type": "code",
      "metadata": {
        "id": "vJ_9YXBs6Bt2",
        "colab_type": "code",
        "outputId": "bbb0ed07-e3f9-46c5-8577-165a1548531e",
        "colab": {
          "base_uri": "https://localhost:8080/",
          "height": 545
        }
      },
      "source": [
        "fig = plt.figure(figsize=(10, 8))\n",
        "cdf = np.cumsum(counts)\n",
        "plt.plot(bin_edges[1:], cdf)\n",
        "plt.xlabel('execution time of modules')\n",
        "plt.ylabel('cumulative distribution function of execution time')\n",
        "plt.title('Cumulative Distribution of Execution time for modules\\n')"
      ],
      "execution_count": 0,
      "outputs": [
        {
          "output_type": "execute_result",
          "data": {
            "text/plain": [
              "Text(0.5, 1.0, 'Cumulative Distribution of Execution time for modules\\n')"
            ]
          },
          "metadata": {
            "tags": []
          },
          "execution_count": 39
        },
        {
          "output_type": "display_data",
          "data": {
            "image/png": "[encoded data removed]",
            "text/plain": [
              "<Figure size 720x576 with 1 Axes>"
            ]
          },
          "metadata": {
            "tags": []
          }
        }
      ]
    }
  ]
}